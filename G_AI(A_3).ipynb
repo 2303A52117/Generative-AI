{
  "nbformat": 4,
  "nbformat_minor": 0,
  "metadata": {
    "colab": {
      "provenance": [],
      "authorship_tag": "ABX9TyMR5QTkmJYfrWuQ4aOav/Pr",
      "include_colab_link": true
    },
    "kernelspec": {
      "name": "python3",
      "display_name": "Python 3"
    },
    "language_info": {
      "name": "python"
    }
  },
  "cells": [
    {
      "cell_type": "markdown",
      "metadata": {
        "id": "view-in-github",
        "colab_type": "text"
      },
      "source": [
        "<a href=\"https://colab.research.google.com/github/2303A52117/Generative-AI/blob/main/G_AI(A_3).ipynb\" target=\"_parent\"><img src=\"https://colab.research.google.com/assets/colab-badge.svg\" alt=\"Open In Colab\"/></a>"
      ]
    },
    {
      "cell_type": "code",
      "execution_count": 6,
      "metadata": {
        "colab": {
          "base_uri": "https://localhost:8080/"
        },
        "id": "RJiHRO-4Irg9",
        "outputId": "dd5d0f9d-4cde-4044-f6e2-5f9c9f5a9048"
      },
      "outputs": [
        {
          "output_type": "stream",
          "name": "stdout",
          "text": [
            "The value of x at which f(x) is minimized is: 0.0\n"
          ]
        }
      ],
      "source": [
        "def gradient_descent_f(initial_x, learning_rate, max_iterations, tolerance):\n",
        "    x = initial_x\n",
        "    for i in range(max_iterations):\n",
        "        # Derivative of f(x): df/dx = 20x^3 + 6x\n",
        "        gradient = 20 * x**3 + 6 * x\n",
        "        next_x = x - learning_rate * gradient\n",
        "        if abs(next_x - x) < tolerance:\n",
        "            break\n",
        "        x = next_x\n",
        "    return x\n",
        "\n",
        "# Parameters\n",
        "initial_x = 0.0\n",
        "learning_rate = 0.1\n",
        "max_iterations = 1000\n",
        "tolerance = 1e-6\n",
        "\n",
        "min_x = gradient_descent_f(initial_x, learning_rate, max_iterations, tolerance)\n",
        "print(f\"The value of x at which f(x) is minimized is: {min_x}\")"
      ]
    },
    {
      "cell_type": "code",
      "source": [
        "def gradient_descent_g(initial_x, initial_y, learning_rate, max_iterations, tolerance):\n",
        "    x, y = initial_x, initial_y\n",
        "    for i in range(max_iterations):\n",
        "        # Partial derivatives:\n",
        "        # dg/dx = 6x\n",
        "        # dg/dy = -5e^(-y)\n",
        "        gradient_x = 6 * x\n",
        "        gradient_y = -5 * pow(2.718, -y)\n",
        "\n",
        "        next_x = x - learning_rate * gradient_x\n",
        "        next_y = y - learning_rate * gradient_y\n",
        "\n",
        "        if abs(next_x - x) < tolerance and abs(next_y - y) < tolerance:\n",
        "            break\n",
        "\n",
        "        x, y = next_x, next_y\n",
        "    return x, y\n",
        "\n",
        "# Parameters\n",
        "initial_x = 0.0\n",
        "initial_y = 0.0\n",
        "learning_rate = 0.1\n",
        "max_iterations = 1000\n",
        "tolerance = 1e-6\n",
        "\n",
        "min_x, min_y = gradient_descent_g(initial_x, initial_y, learning_rate, max_iterations, tolerance)\n",
        "print(f\"The value of x and y at which g(x, y) is minimized are: x = {min_x}, y = {min_y}\")"
      ],
      "metadata": {
        "colab": {
          "base_uri": "https://localhost:8080/"
        },
        "id": "tduVO_PQKznI",
        "outputId": "d956f0aa-5f30-447b-a3ef-d6e26ebf18df"
      },
      "execution_count": 7,
      "outputs": [
        {
          "output_type": "stream",
          "name": "stdout",
          "text": [
            "The value of x and y at which g(x, y) is minimized are: x = 0.0, y = 6.220350607919344\n"
          ]
        }
      ]
    },
    {
      "cell_type": "code",
      "source": [
        "def sigmoid_derivative(x):\n",
        "    sig = 1 / (1 + 2.71828**(-x))\n",
        "    return sig * (1 - sig)\n",
        "\n",
        "# Calculate minimum x for sigmoid function using gradient descent\n",
        "min_x_sigmoid = gradient_descent_f(0.0, 0.1, 1000, 1e-6)\n",
        "\n",
        "print(f\"Minimum value of x for sigmoid function: {min_x_sigmoid}\")"
      ],
      "metadata": {
        "id": "GokeBARMLAzx",
        "colab": {
          "base_uri": "https://localhost:8080/"
        },
        "outputId": "ca2a47a2-fbd8-4140-b5ff-af05389534d6"
      },
      "execution_count": 10,
      "outputs": [
        {
          "output_type": "stream",
          "name": "stdout",
          "text": [
            "Minimum value of x for sigmoid function: 0.0\n"
          ]
        }
      ]
    },
    {
      "cell_type": "code",
      "source": [
        "def gradient_descent_linear(f_prime_m, f_prime_c, m0, c0, learning_rate=0.1, tolerance=1e-6, max_iter=1000):\n",
        "    m, c = m0, c0\n",
        "    for i in range(max_iter):\n",
        "        grad_m = f_prime_m(m, c)\n",
        "        grad_c = f_prime_c(m, c)\n",
        "        new_m = m - learning_rate * grad_m\n",
        "        new_c = c - learning_rate * grad_c\n",
        "        if abs(new_m - m) < tolerance and abs(new_c - c) < tolerance:\n",
        "            break\n",
        "        m, c = new_m, new_c\n",
        "    return m, c\n",
        "\n",
        "# Derivatives of SE = (ExpectedOutput - (Mx + C))^2\n",
        "# Assuming simple linear regression y = Mx + C, and we have some data points (x, y)\n",
        "\n",
        "def f_prime_m(m, c):\n",
        "    # Example with a single data point (x, y) = (1, 2)\n",
        "    x, y = 1, 2\n",
        "    return -2 * x * (y - (m * x + c))\n",
        "\n",
        "def f_prime_c(m, c):\n",
        "    x, y = 1, 2\n",
        "    return -2 * (y - (m * x + c))\n",
        "\n",
        "# Initial guess\n",
        "m0, c0 = 0.0, 0.0\n",
        "min_m, min_c = gradient_descent_linear(f_prime_m, f_prime_c, m0, c0)\n",
        "print(f\"Optimal values of M and C: {min_m}, {min_c}\")"
      ],
      "metadata": {
        "colab": {
          "base_uri": "https://localhost:8080/"
        },
        "id": "o0NlNMECMEq3",
        "outputId": "1e037fce-8b8d-40b0-e962-4e80eff29d71"
      },
      "execution_count": 11,
      "outputs": [
        {
          "output_type": "stream",
          "name": "stdout",
          "text": [
            "Optimal values of M and C: 0.9999982941827182, 0.9999982941827182\n"
          ]
        }
      ]
    }
  ]
}