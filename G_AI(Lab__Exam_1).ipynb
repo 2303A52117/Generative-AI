{
  "nbformat": 4,
  "nbformat_minor": 0,
  "metadata": {
    "colab": {
      "provenance": [],
      "authorship_tag": "ABX9TyP+TH07zb1jY0PQSpG2I+FR",
      "include_colab_link": true
    },
    "kernelspec": {
      "name": "python3",
      "display_name": "Python 3"
    },
    "language_info": {
      "name": "python"
    }
  },
  "cells": [
    {
      "cell_type": "markdown",
      "metadata": {
        "id": "view-in-github",
        "colab_type": "text"
      },
      "source": [
        "<a href=\"https://colab.research.google.com/github/2303A52117/Generative-AI/blob/main/G_AI(Lab__Exam_1).ipynb\" target=\"_parent\"><img src=\"https://colab.research.google.com/assets/colab-badge.svg\" alt=\"Open In Colab\"/></a>"
      ]
    },
    {
      "cell_type": "code",
      "execution_count": null,
      "metadata": {
        "colab": {
          "base_uri": "https://localhost:8080/"
        },
        "id": "Gd7tTDF7YiOm",
        "outputId": "fdc247e8-1db2-4534-d47e-2bff55815377"
      },
      "outputs": [
        {
          "output_type": "stream",
          "name": "stdout",
          "text": [
            "Enter x1: 0.1\n",
            "Enter x2: 0.2\n",
            "Enter x3: 0.3\n",
            "Predicted output: 0.15676510904542018\n"
          ]
        }
      ],
      "source": [
        "import numpy as np\n",
        "# Sigmoid activation function and its derivative\n",
        "def sigmoid(x):\n",
        "    return 1 / (1 + np.exp(-x))\n",
        "def sigmoid_derivative(x):\n",
        "    return x * (1 - x)\n",
        "# Training data (from the table)\n",
        "X = np.array([[0.1, 0.2, 0.3],\n",
        "              [0.2, 0.3, 0.4],\n",
        "              [0.3, 0.4, 0.5],\n",
        "              [0.5, 0.6, 0.7],\n",
        "              [0.1, 0.3, 0.5],\n",
        "              [0.2, 0.4, 0.6],\n",
        "              [0.3, 0.5, 0.7],\n",
        "              [0.4, 0.6, 0.8],\n",
        "              [0.5, 0.7, 0.1]])\n",
        "y = np.array([[0.14],\n",
        "              [0.20],\n",
        "              [0.26],\n",
        "              [0.38],\n",
        "              [0.22],\n",
        "              [0.28],\n",
        "              [0.34],\n",
        "              [0.40],\n",
        "              [0.22]])\n",
        "\n",
        "# Initialize weights and bias (adjust as needed)\n",
        "np.random.seed(0)  # For reproducibility\n",
        "weights = 2 * np.random.random((3, 1)) - 1  # 3 inputs, 1 output\n",
        "bias = np.random.random((1, 1))\n",
        "# Hyperparameters\n",
        "learning_rate = 0.1\n",
        "epochs = 10000\n",
        "# Training loop\n",
        "for epoch in range(epochs):\n",
        "    # Forward propagation\n",
        "    input_layer = X\n",
        "    hidden_layer_output = sigmoid(np.dot(input_layer, weights) + bias)\n",
        "    # Backpropagation\n",
        "    error = y - hidden_layer_output\n",
        "    delta = error * sigmoid_derivative(hidden_layer_output)\n",
        "    # Update weights and bias\n",
        "    weights += np.dot(input_layer.T, delta) * learning_rate\n",
        "    bias += np.sum(delta) * learning_rate\n",
        "# Prediction function\n",
        "def predict(x1, x2, x3):\n",
        "    input_data = np.array([[x1, x2, x3]])\n",
        "    output = sigmoid(np.dot(input_data, weights) + bias)\n",
        "    return output\n",
        "# Get input from the user\n",
        "x1 = float(input(\"Enter x1: \"))\n",
        "x2 = float(input(\"Enter x2: \"))\n",
        "x3 = float(input(\"Enter x3: \"))\n",
        "\n",
        "# Make prediction\n",
        "prediction = predict(x1, x2, x3)\n",
        "print(\"Predicted output:\", prediction[0][0])"
      ]
    }
  ]
}